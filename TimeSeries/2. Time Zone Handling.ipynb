{
 "cells": [
  {
   "cell_type": "code",
   "execution_count": 1,
   "metadata": {
    "collapsed": true
   },
   "outputs": [],
   "source": [
    "import numpy as np\n",
    "import pandas as pd"
   ]
  },
  {
   "cell_type": "code",
   "execution_count": 4,
   "metadata": {
    "collapsed": false
   },
   "outputs": [
    {
     "name": "stdout",
     "output_type": "stream",
     "text": [
      "DatetimeIndex(['2012-03-06', '2012-03-07', '2012-03-08', '2012-03-09',\n",
      "               '2012-03-10', '2012-03-11', '2012-03-12', '2012-03-13',\n",
      "               '2012-03-14', '2012-03-15', '2012-03-16', '2012-03-17',\n",
      "               '2012-03-18', '2012-03-19', '2012-03-20'],\n",
      "              dtype='datetime64[ns]', freq='D')\n",
      "None\n"
     ]
    }
   ],
   "source": [
    "rng = pd.date_range('3/6/2012 00:00', periods = 15, freq = 'D')\n",
    "print(rng)\n",
    "print(rng.tz)"
   ]
  },
  {
   "cell_type": "code",
   "execution_count": 5,
   "metadata": {
    "collapsed": false
   },
   "outputs": [
    {
     "data": {
      "text/plain": [
       "<DstTzInfo 'Europe/London' LMT-1 day, 23:59:00 STD>"
      ]
     },
     "execution_count": 5,
     "metadata": {},
     "output_type": "execute_result"
    }
   ],
   "source": [
    "rng_tz = pd.date_range('3/6/2012 00:00', periods = 15, freq = 'D', tz = 'Europe/London')\n",
    "rng_tz.tz"
   ]
  },
  {
   "cell_type": "code",
   "execution_count": 6,
   "metadata": {
    "collapsed": false
   },
   "outputs": [
    {
     "name": "stdout",
     "output_type": "stream",
     "text": [
      "439\n",
      "592\n",
      "{'Asia/Macao', 'Mexico/BajaSur', 'Etc/GMT+12', 'US/Aleutian', 'US/Indiana-Starke', 'Etc/GMT+2', 'America/Santa_Isabel', 'America/Argentina/ComodRivadavia', 'America/Montreal', 'Etc/Universal', 'ROK', 'Etc/GMT-3', 'America/Ensenada', 'America/Knox_IN', 'Pacific/Ponape', 'EST', 'GB', 'Australia/LHI', 'Iran', 'Zulu', 'Chile/Continental', 'US/Samoa', 'Etc/Greenwich', 'GMT+0', 'PST8PDT', 'Atlantic/Jan_Mayen', 'Etc/GMT+1', 'Asia/Ulan_Bator', 'W-SU', 'Asia/Ujung_Pandang', 'Australia/ACT', 'America/Coral_Harbour', 'Etc/GMT-11', 'Chile/EasterIsland', 'Australia/Tasmania', 'Navajo', 'Etc/Zulu', 'Eire', 'Pacific/Samoa', 'US/Pacific-New', 'Etc/GMT+3', 'EST5EDT', 'Asia/Tel_Aviv', 'Europe/Belfast', 'Etc/GMT+0', 'Pacific/Truk', 'Jamaica', 'UCT', 'Cuba', 'Etc/GMT-0', 'Africa/Timbuktu', 'HST', 'WET', 'Asia/Kashgar', 'Australia/Yancowinna', 'Libya', 'Etc/GMT+9', 'Etc/GMT-7', 'Poland', 'Australia/North', 'Asia/Chongqing', 'Etc/GMT-12', 'Etc/GMT', 'America/Shiprock', 'Universal', 'America/Porto_Acre', 'Israel', 'America/Louisville', 'Etc/GMT+10', 'Etc/GMT+8', 'ROC', 'Mexico/BajaNorte', 'US/Michigan', 'Hongkong', 'Portugal', 'Etc/GMT+6', 'Europe/Nicosia', 'NZ-CHAT', 'America/Rosario', 'EET', 'Asia/Ashkhabad', 'Etc/GMT-9', 'Etc/UCT', 'PRC', 'Asia/Katmandu', 'Etc/UTC', 'Pacific/Yap', 'Australia/Canberra', 'Australia/NSW', 'America/Virgin', 'Mexico/General', 'Asia/Chungking', 'Australia/Victoria', 'MST7MDT', 'Etc/GMT+4', 'Asia/Dacca', 'America/Buenos_Aires', 'Etc/GMT0', 'America/Jujuy', 'Etc/GMT-8', 'Greenwich', 'Africa/Asmera', 'Turkey', 'GMT-0', 'Etc/GMT+7', 'America/Mendoza', 'GMT0', 'Brazil/East', 'Asia/Thimbu', 'Canada/Yukon', 'Etc/GMT-2', 'Canada/Saskatchewan', 'Etc/GMT-1', 'Asia/Istanbul', 'Antarctica/South_Pole', 'CST6CDT', 'Etc/GMT-6', 'Brazil/Acre', 'Australia/Queensland', 'Australia/West', 'Etc/GMT-10', 'Iceland', 'Atlantic/Faeroe', 'Etc/GMT-4', 'Etc/GMT-14', 'America/Fort_Wayne', 'Europe/Tiraspol', 'Asia/Harbin', 'MST', 'Etc/GMT-13', 'Japan', 'Asia/Calcutta', 'Canada/East-Saskatchewan', 'Singapore', 'GB-Eire', 'America/Cordoba', 'America/Atka', 'Asia/Rangoon', 'Etc/GMT-5', 'US/East-Indiana', 'Australia/South', 'CET', 'Brazil/DeNoronha', 'MET', 'Kwajalein', 'Brazil/West', 'Etc/GMT+11', 'Asia/Saigon', 'NZ', 'Egypt', 'America/Catamarca', 'America/Indianapolis', 'Etc/GMT+5'}\n"
     ]
    }
   ],
   "source": [
    "from pytz import common_timezones, all_timezones\n",
    "print(len(common_timezones))\n",
    "print(len(all_timezones))\n",
    "print(set(all_timezones) - set(common_timezones))"
   ]
  },
  {
   "cell_type": "code",
   "execution_count": 7,
   "metadata": {
    "collapsed": false
   },
   "outputs": [
    {
     "data": {
      "text/plain": [
       "Timestamp('2016-07-10 08:50:00')"
      ]
     },
     "execution_count": 7,
     "metadata": {},
     "output_type": "execute_result"
    }
   ],
   "source": [
    "# You can also localize a naive timestamp\n",
    "t_naive = pd.Timestamp('2016-07-10 08:50')\n",
    "t_naive"
   ]
  },
  {
   "cell_type": "code",
   "execution_count": 8,
   "metadata": {
    "collapsed": false
   },
   "outputs": [
    {
     "data": {
      "text/plain": [
       "Timestamp('2016-07-10 08:50:00-0500', tz='US/Central')"
      ]
     },
     "execution_count": 8,
     "metadata": {},
     "output_type": "execute_result"
    }
   ],
   "source": [
    "t = t_naive.tz_localize(tz = 'US/Central')\n",
    "t"
   ]
  },
  {
   "cell_type": "code",
   "execution_count": 9,
   "metadata": {
    "collapsed": false
   },
   "outputs": [
    {
     "data": {
      "text/plain": [
       "Timestamp('2016-07-10 22:50:00+0900', tz='Asia/Tokyo')"
      ]
     },
     "execution_count": 9,
     "metadata": {},
     "output_type": "execute_result"
    }
   ],
   "source": [
    "t.tz_convert('Asia/Tokyo')"
   ]
  },
  {
   "cell_type": "code",
   "execution_count": 10,
   "metadata": {
    "collapsed": false
   },
   "outputs": [
    {
     "data": {
      "text/plain": [
       "2016-03-10 00:00:00-06:00    0\n",
       "2016-03-11 00:00:00-06:00    1\n",
       "2016-03-12 00:00:00-06:00    2\n",
       "2016-03-13 00:00:00-06:00    3\n",
       "2016-03-14 00:00:00-05:00    4\n",
       "2016-03-15 00:00:00-05:00    5\n",
       "2016-03-16 00:00:00-05:00    6\n",
       "2016-03-17 00:00:00-05:00    7\n",
       "2016-03-18 00:00:00-05:00    8\n",
       "2016-03-19 00:00:00-05:00    9\n",
       "Freq: D, dtype: int64"
      ]
     },
     "execution_count": 10,
     "metadata": {},
     "output_type": "execute_result"
    }
   ],
   "source": [
    "# how to handle daylight savings?\n",
    "rng = pd.date_range('2016-03-10', periods=10, tz='US/Central')\n",
    "ts = pd.Series(range(10), index=rng)\n",
    "ts"
   ]
  },
  {
   "cell_type": "code",
   "execution_count": 11,
   "metadata": {
    "collapsed": false
   },
   "outputs": [
    {
     "data": {
      "text/plain": [
       "2016-03-10 00:00:00+00:00    0\n",
       "2016-03-11 00:00:00+00:00    1\n",
       "2016-03-12 00:00:00+00:00    2\n",
       "2016-03-13 00:00:00+00:00    3\n",
       "2016-03-14 00:00:00+00:00    4\n",
       "2016-03-15 00:00:00+00:00    5\n",
       "2016-03-16 00:00:00+00:00    6\n",
       "2016-03-17 00:00:00+00:00    7\n",
       "2016-03-18 00:00:00+00:00    8\n",
       "2016-03-19 00:00:00+00:00    9\n",
       "Freq: D, dtype: int64"
      ]
     },
     "execution_count": 11,
     "metadata": {},
     "output_type": "execute_result"
    }
   ],
   "source": [
    "rng = pd.date_range('2016-03-10', periods=10, tz='utc')\n",
    "ts = pd.Series(range(10), index=rng)\n",
    "ts"
   ]
  },
  {
   "cell_type": "code",
   "execution_count": 12,
   "metadata": {
    "collapsed": false
   },
   "outputs": [
    {
     "data": {
      "text/plain": [
       "2016-03-09 18:00:00-06:00    0\n",
       "2016-03-10 18:00:00-06:00    1\n",
       "2016-03-11 18:00:00-06:00    2\n",
       "2016-03-12 18:00:00-06:00    3\n",
       "2016-03-13 19:00:00-05:00    4\n",
       "2016-03-14 19:00:00-05:00    5\n",
       "2016-03-15 19:00:00-05:00    6\n",
       "2016-03-16 19:00:00-05:00    7\n",
       "2016-03-17 19:00:00-05:00    8\n",
       "2016-03-18 19:00:00-05:00    9\n",
       "Freq: D, dtype: int64"
      ]
     },
     "execution_count": 12,
     "metadata": {},
     "output_type": "execute_result"
    }
   ],
   "source": [
    "ts.tz_convert('US/Central')"
   ]
  },
  {
   "cell_type": "code",
   "execution_count": 13,
   "metadata": {
    "collapsed": false
   },
   "outputs": [
    {
     "data": {
      "text/plain": [
       "DatetimeIndex(['2016-03-12 22:00:00-05:00', '2016-03-12 23:00:00-05:00',\n",
       "               '2016-03-13 00:00:00-05:00', '2016-03-13 01:00:00-05:00',\n",
       "               '2016-03-13 03:00:00-04:00', '2016-03-13 04:00:00-04:00',\n",
       "               '2016-03-13 05:00:00-04:00', '2016-03-13 06:00:00-04:00',\n",
       "               '2016-03-13 07:00:00-04:00', '2016-03-13 08:00:00-04:00',\n",
       "               '2016-03-13 09:00:00-04:00', '2016-03-13 10:00:00-04:00'],\n",
       "              dtype='datetime64[ns, US/Eastern]', freq='H')"
      ]
     },
     "execution_count": 13,
     "metadata": {},
     "output_type": "execute_result"
    }
   ],
   "source": [
    "pd.date_range('03-12-2016 22:00', periods = 12, freq = 'H', tz = 'US/Eastern')"
   ]
  },
  {
   "cell_type": "code",
   "execution_count": 14,
   "metadata": {
    "collapsed": false
   },
   "outputs": [
    {
     "data": {
      "text/plain": [
       "Timestamp('2016-03-13 03:00:00-0400', tz='US/Eastern')"
      ]
     },
     "execution_count": 14,
     "metadata": {},
     "output_type": "execute_result"
    }
   ],
   "source": [
    "# May autocorrect an error rather than giving you a non-existent time error\n",
    "pd.Timestamp('2016-03-13 02:00', tz = 'US/Eastern')"
   ]
  },
  {
   "cell_type": "code",
   "execution_count": null,
   "metadata": {
    "collapsed": true
   },
   "outputs": [],
   "source": []
  }
 ],
 "metadata": {
  "kernelspec": {
   "display_name": "Python 3",
   "language": "python",
   "name": "python3"
  },
  "language_info": {
   "codemirror_mode": {
    "name": "ipython",
    "version": 3
   },
   "file_extension": ".py",
   "mimetype": "text/x-python",
   "name": "python",
   "nbconvert_exporter": "python",
   "pygments_lexer": "ipython3",
   "version": "3.6.0"
  },
  "varInspector": {
   "cols": {
    "lenName": 16,
    "lenType": 16,
    "lenVar": 40
   },
   "kernels_config": {
    "python": {
     "delete_cmd_postfix": "",
     "delete_cmd_prefix": "del ",
     "library": "var_list.py",
     "varRefreshCmd": "print(var_dic_list())"
    },
    "r": {
     "delete_cmd_postfix": ") ",
     "delete_cmd_prefix": "rm(",
     "library": "var_list.r",
     "varRefreshCmd": "cat(var_dic_list()) "
    }
   },
   "types_to_exclude": [
    "module",
    "function",
    "builtin_function_or_method",
    "instance",
    "_Feature"
   ],
   "window_display": false
  }
 },
 "nbformat": 4,
 "nbformat_minor": 0
}
